{
  "cells": [
    {
      "cell_type": "markdown",
      "metadata": {
        "id": "qoyh4Nvb8o4z"
      },
      "source": [
        "# DATA LOADING\n"
      ]
    },
    {
      "cell_type": "code",
      "execution_count": null,
      "metadata": {
        "id": "_AtuE5S78kRf"
      },
      "outputs": [],
      "source": [
        "import pandas as pd"
      ]
    },
    {
      "cell_type": "code",
      "execution_count": null,
      "metadata": {
        "id": "L7NnbRkA8tpN"
      },
      "outputs": [],
      "source": [
        "data = pd.read_csv('data_up.csv')"
      ]
    },
    {
      "cell_type": "code",
      "execution_count": null,
      "metadata": {
        "colab": {
          "base_uri": "https://localhost:8080/",
          "height": 308
        },
        "id": "tF2ySU7W85Ni",
        "outputId": "5e7fd4db-a389-40a5-bdba-7249dd7dd4aa"
      },
      "outputs": [
        {
          "output_type": "execute_result",
          "data": {
            "text/plain": [
              "   SEQN  Gender  Age  Annual-Family-Income  Ratio-Family-Income-Poverty  \\\n",
              "0     2       1   77                     8                         5.00   \n",
              "1     5       1   49                    11                         5.00   \n",
              "2    12       1   37                    11                         4.93   \n",
              "3    13       1   70                     3                         1.07   \n",
              "4    14       1   81                     5                         2.67   \n",
              "\n",
              "   X60-sec-pulse  Systolic  Diastolic  Weight  Height  ...  Total-Cholesterol  \\\n",
              "0             68        98         56    75.4   174.0  ...               5.56   \n",
              "1             66       122         83    92.5   178.3  ...               7.21   \n",
              "2             64       174         99    99.2   180.0  ...               4.03   \n",
              "3            102       130         66    63.6   157.7  ...               8.12   \n",
              "4             72       136         61    75.5   166.2  ...               4.50   \n",
              "\n",
              "    HDL  Glycohemoglobin  Vigorous-work  Moderate-work  Health-Insurance  \\\n",
              "0  1.39              4.7              3              3                 1   \n",
              "1  1.08              5.5              1              1                 1   \n",
              "2  0.98              5.2              2              1                 1   \n",
              "3  1.28              7.6              3              3                 1   \n",
              "4  1.04              5.8              1              1                 1   \n",
              "\n",
              "   Diabetes  Blood-Rel-Diabetes  Blood-Rel-Stroke  CoronaryHeartDisease  \n",
              "0         2                   2                 2                     0  \n",
              "1         2                   2                 2                     0  \n",
              "2         2                   1                 1                     0  \n",
              "3         1                   1                 2                     0  \n",
              "4         2                   2                 2                     0  \n",
              "\n",
              "[5 rows x 51 columns]"
            ],
            "text/html": [
              "\n",
              "  <div id=\"df-14c485c6-75e4-469e-88b7-54fc04e2fb95\" class=\"colab-df-container\">\n",
              "    <div>\n",
              "<style scoped>\n",
              "    .dataframe tbody tr th:only-of-type {\n",
              "        vertical-align: middle;\n",
              "    }\n",
              "\n",
              "    .dataframe tbody tr th {\n",
              "        vertical-align: top;\n",
              "    }\n",
              "\n",
              "    .dataframe thead th {\n",
              "        text-align: right;\n",
              "    }\n",
              "</style>\n",
              "<table border=\"1\" class=\"dataframe\">\n",
              "  <thead>\n",
              "    <tr style=\"text-align: right;\">\n",
              "      <th></th>\n",
              "      <th>SEQN</th>\n",
              "      <th>Gender</th>\n",
              "      <th>Age</th>\n",
              "      <th>Annual-Family-Income</th>\n",
              "      <th>Ratio-Family-Income-Poverty</th>\n",
              "      <th>X60-sec-pulse</th>\n",
              "      <th>Systolic</th>\n",
              "      <th>Diastolic</th>\n",
              "      <th>Weight</th>\n",
              "      <th>Height</th>\n",
              "      <th>...</th>\n",
              "      <th>Total-Cholesterol</th>\n",
              "      <th>HDL</th>\n",
              "      <th>Glycohemoglobin</th>\n",
              "      <th>Vigorous-work</th>\n",
              "      <th>Moderate-work</th>\n",
              "      <th>Health-Insurance</th>\n",
              "      <th>Diabetes</th>\n",
              "      <th>Blood-Rel-Diabetes</th>\n",
              "      <th>Blood-Rel-Stroke</th>\n",
              "      <th>CoronaryHeartDisease</th>\n",
              "    </tr>\n",
              "  </thead>\n",
              "  <tbody>\n",
              "    <tr>\n",
              "      <th>0</th>\n",
              "      <td>2</td>\n",
              "      <td>1</td>\n",
              "      <td>77</td>\n",
              "      <td>8</td>\n",
              "      <td>5.00</td>\n",
              "      <td>68</td>\n",
              "      <td>98</td>\n",
              "      <td>56</td>\n",
              "      <td>75.4</td>\n",
              "      <td>174.0</td>\n",
              "      <td>...</td>\n",
              "      <td>5.56</td>\n",
              "      <td>1.39</td>\n",
              "      <td>4.7</td>\n",
              "      <td>3</td>\n",
              "      <td>3</td>\n",
              "      <td>1</td>\n",
              "      <td>2</td>\n",
              "      <td>2</td>\n",
              "      <td>2</td>\n",
              "      <td>0</td>\n",
              "    </tr>\n",
              "    <tr>\n",
              "      <th>1</th>\n",
              "      <td>5</td>\n",
              "      <td>1</td>\n",
              "      <td>49</td>\n",
              "      <td>11</td>\n",
              "      <td>5.00</td>\n",
              "      <td>66</td>\n",
              "      <td>122</td>\n",
              "      <td>83</td>\n",
              "      <td>92.5</td>\n",
              "      <td>178.3</td>\n",
              "      <td>...</td>\n",
              "      <td>7.21</td>\n",
              "      <td>1.08</td>\n",
              "      <td>5.5</td>\n",
              "      <td>1</td>\n",
              "      <td>1</td>\n",
              "      <td>1</td>\n",
              "      <td>2</td>\n",
              "      <td>2</td>\n",
              "      <td>2</td>\n",
              "      <td>0</td>\n",
              "    </tr>\n",
              "    <tr>\n",
              "      <th>2</th>\n",
              "      <td>12</td>\n",
              "      <td>1</td>\n",
              "      <td>37</td>\n",
              "      <td>11</td>\n",
              "      <td>4.93</td>\n",
              "      <td>64</td>\n",
              "      <td>174</td>\n",
              "      <td>99</td>\n",
              "      <td>99.2</td>\n",
              "      <td>180.0</td>\n",
              "      <td>...</td>\n",
              "      <td>4.03</td>\n",
              "      <td>0.98</td>\n",
              "      <td>5.2</td>\n",
              "      <td>2</td>\n",
              "      <td>1</td>\n",
              "      <td>1</td>\n",
              "      <td>2</td>\n",
              "      <td>1</td>\n",
              "      <td>1</td>\n",
              "      <td>0</td>\n",
              "    </tr>\n",
              "    <tr>\n",
              "      <th>3</th>\n",
              "      <td>13</td>\n",
              "      <td>1</td>\n",
              "      <td>70</td>\n",
              "      <td>3</td>\n",
              "      <td>1.07</td>\n",
              "      <td>102</td>\n",
              "      <td>130</td>\n",
              "      <td>66</td>\n",
              "      <td>63.6</td>\n",
              "      <td>157.7</td>\n",
              "      <td>...</td>\n",
              "      <td>8.12</td>\n",
              "      <td>1.28</td>\n",
              "      <td>7.6</td>\n",
              "      <td>3</td>\n",
              "      <td>3</td>\n",
              "      <td>1</td>\n",
              "      <td>1</td>\n",
              "      <td>1</td>\n",
              "      <td>2</td>\n",
              "      <td>0</td>\n",
              "    </tr>\n",
              "    <tr>\n",
              "      <th>4</th>\n",
              "      <td>14</td>\n",
              "      <td>1</td>\n",
              "      <td>81</td>\n",
              "      <td>5</td>\n",
              "      <td>2.67</td>\n",
              "      <td>72</td>\n",
              "      <td>136</td>\n",
              "      <td>61</td>\n",
              "      <td>75.5</td>\n",
              "      <td>166.2</td>\n",
              "      <td>...</td>\n",
              "      <td>4.50</td>\n",
              "      <td>1.04</td>\n",
              "      <td>5.8</td>\n",
              "      <td>1</td>\n",
              "      <td>1</td>\n",
              "      <td>1</td>\n",
              "      <td>2</td>\n",
              "      <td>2</td>\n",
              "      <td>2</td>\n",
              "      <td>0</td>\n",
              "    </tr>\n",
              "  </tbody>\n",
              "</table>\n",
              "<p>5 rows × 51 columns</p>\n",
              "</div>\n",
              "    <div class=\"colab-df-buttons\">\n",
              "\n",
              "  <div class=\"colab-df-container\">\n",
              "    <button class=\"colab-df-convert\" onclick=\"convertToInteractive('df-14c485c6-75e4-469e-88b7-54fc04e2fb95')\"\n",
              "            title=\"Convert this dataframe to an interactive table.\"\n",
              "            style=\"display:none;\">\n",
              "\n",
              "  <svg xmlns=\"http://www.w3.org/2000/svg\" height=\"24px\" viewBox=\"0 -960 960 960\">\n",
              "    <path d=\"M120-120v-720h720v720H120Zm60-500h600v-160H180v160Zm220 220h160v-160H400v160Zm0 220h160v-160H400v160ZM180-400h160v-160H180v160Zm440 0h160v-160H620v160ZM180-180h160v-160H180v160Zm440 0h160v-160H620v160Z\"/>\n",
              "  </svg>\n",
              "    </button>\n",
              "\n",
              "  <style>\n",
              "    .colab-df-container {\n",
              "      display:flex;\n",
              "      gap: 12px;\n",
              "    }\n",
              "\n",
              "    .colab-df-convert {\n",
              "      background-color: #E8F0FE;\n",
              "      border: none;\n",
              "      border-radius: 50%;\n",
              "      cursor: pointer;\n",
              "      display: none;\n",
              "      fill: #1967D2;\n",
              "      height: 32px;\n",
              "      padding: 0 0 0 0;\n",
              "      width: 32px;\n",
              "    }\n",
              "\n",
              "    .colab-df-convert:hover {\n",
              "      background-color: #E2EBFA;\n",
              "      box-shadow: 0px 1px 2px rgba(60, 64, 67, 0.3), 0px 1px 3px 1px rgba(60, 64, 67, 0.15);\n",
              "      fill: #174EA6;\n",
              "    }\n",
              "\n",
              "    .colab-df-buttons div {\n",
              "      margin-bottom: 4px;\n",
              "    }\n",
              "\n",
              "    [theme=dark] .colab-df-convert {\n",
              "      background-color: #3B4455;\n",
              "      fill: #D2E3FC;\n",
              "    }\n",
              "\n",
              "    [theme=dark] .colab-df-convert:hover {\n",
              "      background-color: #434B5C;\n",
              "      box-shadow: 0px 1px 3px 1px rgba(0, 0, 0, 0.15);\n",
              "      filter: drop-shadow(0px 1px 2px rgba(0, 0, 0, 0.3));\n",
              "      fill: #FFFFFF;\n",
              "    }\n",
              "  </style>\n",
              "\n",
              "    <script>\n",
              "      const buttonEl =\n",
              "        document.querySelector('#df-14c485c6-75e4-469e-88b7-54fc04e2fb95 button.colab-df-convert');\n",
              "      buttonEl.style.display =\n",
              "        google.colab.kernel.accessAllowed ? 'block' : 'none';\n",
              "\n",
              "      async function convertToInteractive(key) {\n",
              "        const element = document.querySelector('#df-14c485c6-75e4-469e-88b7-54fc04e2fb95');\n",
              "        const dataTable =\n",
              "          await google.colab.kernel.invokeFunction('convertToInteractive',\n",
              "                                                    [key], {});\n",
              "        if (!dataTable) return;\n",
              "\n",
              "        const docLinkHtml = 'Like what you see? Visit the ' +\n",
              "          '<a target=\"_blank\" href=https://colab.research.google.com/notebooks/data_table.ipynb>data table notebook</a>'\n",
              "          + ' to learn more about interactive tables.';\n",
              "        element.innerHTML = '';\n",
              "        dataTable['output_type'] = 'display_data';\n",
              "        await google.colab.output.renderOutput(dataTable, element);\n",
              "        const docLink = document.createElement('div');\n",
              "        docLink.innerHTML = docLinkHtml;\n",
              "        element.appendChild(docLink);\n",
              "      }\n",
              "    </script>\n",
              "  </div>\n",
              "\n",
              "\n",
              "    <div id=\"df-35b7f7d4-b9d1-45c4-ad4a-c493a017a9f0\">\n",
              "      <button class=\"colab-df-quickchart\" onclick=\"quickchart('df-35b7f7d4-b9d1-45c4-ad4a-c493a017a9f0')\"\n",
              "                title=\"Suggest charts\"\n",
              "                style=\"display:none;\">\n",
              "\n",
              "<svg xmlns=\"http://www.w3.org/2000/svg\" height=\"24px\"viewBox=\"0 0 24 24\"\n",
              "     width=\"24px\">\n",
              "    <g>\n",
              "        <path d=\"M19 3H5c-1.1 0-2 .9-2 2v14c0 1.1.9 2 2 2h14c1.1 0 2-.9 2-2V5c0-1.1-.9-2-2-2zM9 17H7v-7h2v7zm4 0h-2V7h2v10zm4 0h-2v-4h2v4z\"/>\n",
              "    </g>\n",
              "</svg>\n",
              "      </button>\n",
              "\n",
              "<style>\n",
              "  .colab-df-quickchart {\n",
              "      --bg-color: #E8F0FE;\n",
              "      --fill-color: #1967D2;\n",
              "      --hover-bg-color: #E2EBFA;\n",
              "      --hover-fill-color: #174EA6;\n",
              "      --disabled-fill-color: #AAA;\n",
              "      --disabled-bg-color: #DDD;\n",
              "  }\n",
              "\n",
              "  [theme=dark] .colab-df-quickchart {\n",
              "      --bg-color: #3B4455;\n",
              "      --fill-color: #D2E3FC;\n",
              "      --hover-bg-color: #434B5C;\n",
              "      --hover-fill-color: #FFFFFF;\n",
              "      --disabled-bg-color: #3B4455;\n",
              "      --disabled-fill-color: #666;\n",
              "  }\n",
              "\n",
              "  .colab-df-quickchart {\n",
              "    background-color: var(--bg-color);\n",
              "    border: none;\n",
              "    border-radius: 50%;\n",
              "    cursor: pointer;\n",
              "    display: none;\n",
              "    fill: var(--fill-color);\n",
              "    height: 32px;\n",
              "    padding: 0;\n",
              "    width: 32px;\n",
              "  }\n",
              "\n",
              "  .colab-df-quickchart:hover {\n",
              "    background-color: var(--hover-bg-color);\n",
              "    box-shadow: 0 1px 2px rgba(60, 64, 67, 0.3), 0 1px 3px 1px rgba(60, 64, 67, 0.15);\n",
              "    fill: var(--button-hover-fill-color);\n",
              "  }\n",
              "\n",
              "  .colab-df-quickchart-complete:disabled,\n",
              "  .colab-df-quickchart-complete:disabled:hover {\n",
              "    background-color: var(--disabled-bg-color);\n",
              "    fill: var(--disabled-fill-color);\n",
              "    box-shadow: none;\n",
              "  }\n",
              "\n",
              "  .colab-df-spinner {\n",
              "    border: 2px solid var(--fill-color);\n",
              "    border-color: transparent;\n",
              "    border-bottom-color: var(--fill-color);\n",
              "    animation:\n",
              "      spin 1s steps(1) infinite;\n",
              "  }\n",
              "\n",
              "  @keyframes spin {\n",
              "    0% {\n",
              "      border-color: transparent;\n",
              "      border-bottom-color: var(--fill-color);\n",
              "      border-left-color: var(--fill-color);\n",
              "    }\n",
              "    20% {\n",
              "      border-color: transparent;\n",
              "      border-left-color: var(--fill-color);\n",
              "      border-top-color: var(--fill-color);\n",
              "    }\n",
              "    30% {\n",
              "      border-color: transparent;\n",
              "      border-left-color: var(--fill-color);\n",
              "      border-top-color: var(--fill-color);\n",
              "      border-right-color: var(--fill-color);\n",
              "    }\n",
              "    40% {\n",
              "      border-color: transparent;\n",
              "      border-right-color: var(--fill-color);\n",
              "      border-top-color: var(--fill-color);\n",
              "    }\n",
              "    60% {\n",
              "      border-color: transparent;\n",
              "      border-right-color: var(--fill-color);\n",
              "    }\n",
              "    80% {\n",
              "      border-color: transparent;\n",
              "      border-right-color: var(--fill-color);\n",
              "      border-bottom-color: var(--fill-color);\n",
              "    }\n",
              "    90% {\n",
              "      border-color: transparent;\n",
              "      border-bottom-color: var(--fill-color);\n",
              "    }\n",
              "  }\n",
              "</style>\n",
              "\n",
              "      <script>\n",
              "        async function quickchart(key) {\n",
              "          const quickchartButtonEl =\n",
              "            document.querySelector('#' + key + ' button');\n",
              "          quickchartButtonEl.disabled = true;  // To prevent multiple clicks.\n",
              "          quickchartButtonEl.classList.add('colab-df-spinner');\n",
              "          try {\n",
              "            const charts = await google.colab.kernel.invokeFunction(\n",
              "                'suggestCharts', [key], {});\n",
              "          } catch (error) {\n",
              "            console.error('Error during call to suggestCharts:', error);\n",
              "          }\n",
              "          quickchartButtonEl.classList.remove('colab-df-spinner');\n",
              "          quickchartButtonEl.classList.add('colab-df-quickchart-complete');\n",
              "        }\n",
              "        (() => {\n",
              "          let quickchartButtonEl =\n",
              "            document.querySelector('#df-35b7f7d4-b9d1-45c4-ad4a-c493a017a9f0 button');\n",
              "          quickchartButtonEl.style.display =\n",
              "            google.colab.kernel.accessAllowed ? 'block' : 'none';\n",
              "        })();\n",
              "      </script>\n",
              "    </div>\n",
              "\n",
              "    </div>\n",
              "  </div>\n"
            ],
            "application/vnd.google.colaboratory.intrinsic+json": {
              "type": "dataframe",
              "variable_name": "data"
            }
          },
          "metadata": {},
          "execution_count": 3
        }
      ],
      "source": [
        "data.head(5)"
      ]
    },
    {
      "cell_type": "code",
      "execution_count": null,
      "metadata": {
        "colab": {
          "base_uri": "https://localhost:8080/"
        },
        "id": "3dfmHBrF86vC",
        "outputId": "12f4a2cf-02b3-4cbc-af2a-a6f259a5ac6f"
      },
      "outputs": [
        {
          "output_type": "execute_result",
          "data": {
            "text/plain": [
              "Index(['SEQN', 'Gender', 'Age', 'Annual-Family-Income',\n",
              "       'Ratio-Family-Income-Poverty', 'X60-sec-pulse', 'Systolic', 'Diastolic',\n",
              "       'Weight', 'Height', 'Body-Mass-Index', 'White-Blood-Cells',\n",
              "       'Lymphocyte', 'Monocyte', 'Eosinophils', 'Basophils', 'Red-Blood-Cells',\n",
              "       'Hemoglobin', 'Mean-Cell-Vol', 'Mean-Cell-Hgb-Conc.',\n",
              "       'Mean-cell-Hemoglobin', 'Platelet-count', 'Mean-Platelet-Vol',\n",
              "       'Segmented-Neutrophils', 'Hematocrit', 'Red-Cell-Distribution-Width',\n",
              "       'Albumin', 'ALP', 'AST', 'ALT', 'Cholesterol', 'Creatinine', 'Glucose',\n",
              "       'GGT', 'Iron', 'LDH', 'Phosphorus', 'Bilirubin', 'Protein', 'Uric.Acid',\n",
              "       'Triglycerides', 'Total-Cholesterol', 'HDL', 'Glycohemoglobin',\n",
              "       'Vigorous-work', 'Moderate-work', 'Health-Insurance', 'Diabetes',\n",
              "       'Blood-Rel-Diabetes', 'Blood-Rel-Stroke', 'CoronaryHeartDisease'],\n",
              "      dtype='object')"
            ]
          },
          "metadata": {},
          "execution_count": 4
        }
      ],
      "source": [
        "data.columns"
      ]
    },
    {
      "cell_type": "code",
      "execution_count": null,
      "metadata": {
        "colab": {
          "base_uri": "https://localhost:8080/"
        },
        "id": "waq5fQ-e8-St",
        "outputId": "62a617be-ed44-450a-8a57-20cbd389da77"
      },
      "outputs": [
        {
          "output_type": "execute_result",
          "data": {
            "text/plain": [
              "(37079, 51)"
            ]
          },
          "metadata": {},
          "execution_count": 5
        }
      ],
      "source": [
        "data.shape"
      ]
    },
    {
      "cell_type": "code",
      "execution_count": null,
      "metadata": {
        "colab": {
          "base_uri": "https://localhost:8080/",
          "height": 1000
        },
        "collapsed": true,
        "id": "Gu0DmS2e8_jZ",
        "outputId": "8794b686-2e6a-4d5e-eb5e-f0c851f80f1c"
      },
      "outputs": [
        {
          "output_type": "execute_result",
          "data": {
            "text/plain": [
              "SEQN                           0\n",
              "Gender                         0\n",
              "Age                            0\n",
              "Annual-Family-Income           0\n",
              "Ratio-Family-Income-Poverty    0\n",
              "X60-sec-pulse                  0\n",
              "Systolic                       0\n",
              "Diastolic                      0\n",
              "Weight                         0\n",
              "Height                         0\n",
              "Body-Mass-Index                0\n",
              "White-Blood-Cells              0\n",
              "Lymphocyte                     0\n",
              "Monocyte                       0\n",
              "Eosinophils                    0\n",
              "Basophils                      0\n",
              "Red-Blood-Cells                0\n",
              "Hemoglobin                     0\n",
              "Mean-Cell-Vol                  0\n",
              "Mean-Cell-Hgb-Conc.            0\n",
              "Mean-cell-Hemoglobin           0\n",
              "Platelet-count                 0\n",
              "Mean-Platelet-Vol              0\n",
              "Segmented-Neutrophils          0\n",
              "Hematocrit                     0\n",
              "Red-Cell-Distribution-Width    0\n",
              "Albumin                        0\n",
              "ALP                            0\n",
              "AST                            0\n",
              "ALT                            0\n",
              "Cholesterol                    0\n",
              "Creatinine                     0\n",
              "Glucose                        0\n",
              "GGT                            0\n",
              "Iron                           0\n",
              "LDH                            0\n",
              "Phosphorus                     0\n",
              "Bilirubin                      0\n",
              "Protein                        0\n",
              "Uric.Acid                      0\n",
              "Triglycerides                  0\n",
              "Total-Cholesterol              0\n",
              "HDL                            0\n",
              "Glycohemoglobin                0\n",
              "Vigorous-work                  0\n",
              "Moderate-work                  0\n",
              "Health-Insurance               0\n",
              "Diabetes                       0\n",
              "Blood-Rel-Diabetes             0\n",
              "Blood-Rel-Stroke               0\n",
              "CoronaryHeartDisease           0\n",
              "dtype: int64"
            ],
            "text/html": [
              "<div>\n",
              "<style scoped>\n",
              "    .dataframe tbody tr th:only-of-type {\n",
              "        vertical-align: middle;\n",
              "    }\n",
              "\n",
              "    .dataframe tbody tr th {\n",
              "        vertical-align: top;\n",
              "    }\n",
              "\n",
              "    .dataframe thead th {\n",
              "        text-align: right;\n",
              "    }\n",
              "</style>\n",
              "<table border=\"1\" class=\"dataframe\">\n",
              "  <thead>\n",
              "    <tr style=\"text-align: right;\">\n",
              "      <th></th>\n",
              "      <th>0</th>\n",
              "    </tr>\n",
              "  </thead>\n",
              "  <tbody>\n",
              "    <tr>\n",
              "      <th>SEQN</th>\n",
              "      <td>0</td>\n",
              "    </tr>\n",
              "    <tr>\n",
              "      <th>Gender</th>\n",
              "      <td>0</td>\n",
              "    </tr>\n",
              "    <tr>\n",
              "      <th>Age</th>\n",
              "      <td>0</td>\n",
              "    </tr>\n",
              "    <tr>\n",
              "      <th>Annual-Family-Income</th>\n",
              "      <td>0</td>\n",
              "    </tr>\n",
              "    <tr>\n",
              "      <th>Ratio-Family-Income-Poverty</th>\n",
              "      <td>0</td>\n",
              "    </tr>\n",
              "    <tr>\n",
              "      <th>X60-sec-pulse</th>\n",
              "      <td>0</td>\n",
              "    </tr>\n",
              "    <tr>\n",
              "      <th>Systolic</th>\n",
              "      <td>0</td>\n",
              "    </tr>\n",
              "    <tr>\n",
              "      <th>Diastolic</th>\n",
              "      <td>0</td>\n",
              "    </tr>\n",
              "    <tr>\n",
              "      <th>Weight</th>\n",
              "      <td>0</td>\n",
              "    </tr>\n",
              "    <tr>\n",
              "      <th>Height</th>\n",
              "      <td>0</td>\n",
              "    </tr>\n",
              "    <tr>\n",
              "      <th>Body-Mass-Index</th>\n",
              "      <td>0</td>\n",
              "    </tr>\n",
              "    <tr>\n",
              "      <th>White-Blood-Cells</th>\n",
              "      <td>0</td>\n",
              "    </tr>\n",
              "    <tr>\n",
              "      <th>Lymphocyte</th>\n",
              "      <td>0</td>\n",
              "    </tr>\n",
              "    <tr>\n",
              "      <th>Monocyte</th>\n",
              "      <td>0</td>\n",
              "    </tr>\n",
              "    <tr>\n",
              "      <th>Eosinophils</th>\n",
              "      <td>0</td>\n",
              "    </tr>\n",
              "    <tr>\n",
              "      <th>Basophils</th>\n",
              "      <td>0</td>\n",
              "    </tr>\n",
              "    <tr>\n",
              "      <th>Red-Blood-Cells</th>\n",
              "      <td>0</td>\n",
              "    </tr>\n",
              "    <tr>\n",
              "      <th>Hemoglobin</th>\n",
              "      <td>0</td>\n",
              "    </tr>\n",
              "    <tr>\n",
              "      <th>Mean-Cell-Vol</th>\n",
              "      <td>0</td>\n",
              "    </tr>\n",
              "    <tr>\n",
              "      <th>Mean-Cell-Hgb-Conc.</th>\n",
              "      <td>0</td>\n",
              "    </tr>\n",
              "    <tr>\n",
              "      <th>Mean-cell-Hemoglobin</th>\n",
              "      <td>0</td>\n",
              "    </tr>\n",
              "    <tr>\n",
              "      <th>Platelet-count</th>\n",
              "      <td>0</td>\n",
              "    </tr>\n",
              "    <tr>\n",
              "      <th>Mean-Platelet-Vol</th>\n",
              "      <td>0</td>\n",
              "    </tr>\n",
              "    <tr>\n",
              "      <th>Segmented-Neutrophils</th>\n",
              "      <td>0</td>\n",
              "    </tr>\n",
              "    <tr>\n",
              "      <th>Hematocrit</th>\n",
              "      <td>0</td>\n",
              "    </tr>\n",
              "    <tr>\n",
              "      <th>Red-Cell-Distribution-Width</th>\n",
              "      <td>0</td>\n",
              "    </tr>\n",
              "    <tr>\n",
              "      <th>Albumin</th>\n",
              "      <td>0</td>\n",
              "    </tr>\n",
              "    <tr>\n",
              "      <th>ALP</th>\n",
              "      <td>0</td>\n",
              "    </tr>\n",
              "    <tr>\n",
              "      <th>AST</th>\n",
              "      <td>0</td>\n",
              "    </tr>\n",
              "    <tr>\n",
              "      <th>ALT</th>\n",
              "      <td>0</td>\n",
              "    </tr>\n",
              "    <tr>\n",
              "      <th>Cholesterol</th>\n",
              "      <td>0</td>\n",
              "    </tr>\n",
              "    <tr>\n",
              "      <th>Creatinine</th>\n",
              "      <td>0</td>\n",
              "    </tr>\n",
              "    <tr>\n",
              "      <th>Glucose</th>\n",
              "      <td>0</td>\n",
              "    </tr>\n",
              "    <tr>\n",
              "      <th>GGT</th>\n",
              "      <td>0</td>\n",
              "    </tr>\n",
              "    <tr>\n",
              "      <th>Iron</th>\n",
              "      <td>0</td>\n",
              "    </tr>\n",
              "    <tr>\n",
              "      <th>LDH</th>\n",
              "      <td>0</td>\n",
              "    </tr>\n",
              "    <tr>\n",
              "      <th>Phosphorus</th>\n",
              "      <td>0</td>\n",
              "    </tr>\n",
              "    <tr>\n",
              "      <th>Bilirubin</th>\n",
              "      <td>0</td>\n",
              "    </tr>\n",
              "    <tr>\n",
              "      <th>Protein</th>\n",
              "      <td>0</td>\n",
              "    </tr>\n",
              "    <tr>\n",
              "      <th>Uric.Acid</th>\n",
              "      <td>0</td>\n",
              "    </tr>\n",
              "    <tr>\n",
              "      <th>Triglycerides</th>\n",
              "      <td>0</td>\n",
              "    </tr>\n",
              "    <tr>\n",
              "      <th>Total-Cholesterol</th>\n",
              "      <td>0</td>\n",
              "    </tr>\n",
              "    <tr>\n",
              "      <th>HDL</th>\n",
              "      <td>0</td>\n",
              "    </tr>\n",
              "    <tr>\n",
              "      <th>Glycohemoglobin</th>\n",
              "      <td>0</td>\n",
              "    </tr>\n",
              "    <tr>\n",
              "      <th>Vigorous-work</th>\n",
              "      <td>0</td>\n",
              "    </tr>\n",
              "    <tr>\n",
              "      <th>Moderate-work</th>\n",
              "      <td>0</td>\n",
              "    </tr>\n",
              "    <tr>\n",
              "      <th>Health-Insurance</th>\n",
              "      <td>0</td>\n",
              "    </tr>\n",
              "    <tr>\n",
              "      <th>Diabetes</th>\n",
              "      <td>0</td>\n",
              "    </tr>\n",
              "    <tr>\n",
              "      <th>Blood-Rel-Diabetes</th>\n",
              "      <td>0</td>\n",
              "    </tr>\n",
              "    <tr>\n",
              "      <th>Blood-Rel-Stroke</th>\n",
              "      <td>0</td>\n",
              "    </tr>\n",
              "    <tr>\n",
              "      <th>CoronaryHeartDisease</th>\n",
              "      <td>0</td>\n",
              "    </tr>\n",
              "  </tbody>\n",
              "</table>\n",
              "</div><br><label><b>dtype:</b> int64</label>"
            ]
          },
          "metadata": {},
          "execution_count": 6
        }
      ],
      "source": [
        "data.isnull().sum()"
      ]
    },
    {
      "cell_type": "markdown",
      "metadata": {
        "id": "ITeylh959Smu"
      },
      "source": [
        "Conclusion : Data is clean and all the data is numerical\n",
        "CoronaryHeartDisease is target class. This is a classification problem predicting the heart disease.\n",
        "SEQN is just representing the row number hence we need not take in the prediction columns.\n",
        "Here, we have 49 features and 1 target column.\n",
        "We have originally 37079 rows with no cell being empty."
      ]
    },
    {
      "cell_type": "markdown",
      "metadata": {
        "id": "jxawXfRp9we6"
      },
      "source": [
        "# DATA ANALYSIS\n"
      ]
    },
    {
      "cell_type": "code",
      "execution_count": null,
      "metadata": {
        "colab": {
          "base_uri": "https://localhost:8080/",
          "height": 402
        },
        "id": "gQ8PwaXq9KGq",
        "outputId": "98abdb5e-d100-4f4b-c524-acc0402f1bd7"
      },
      "outputs": [
        {
          "output_type": "execute_result",
          "data": {
            "text/plain": [
              "               SEQN        Gender           Age  Annual-Family-Income  \\\n",
              "count  37079.000000  37079.000000  37079.000000          37079.000000   \n",
              "mean   48901.041236      1.513282     48.943661              7.358208   \n",
              "std    26753.636441      0.499830     18.010440              3.994083   \n",
              "min        2.000000      1.000000     20.000000              1.000000   \n",
              "25%    26120.500000      1.000000     33.000000              4.000000   \n",
              "50%    50065.000000      2.000000     48.000000              7.000000   \n",
              "75%    71173.500000      2.000000     63.000000             10.000000   \n",
              "max    93702.000000      2.000000     85.000000             15.000000   \n",
              "\n",
              "       Ratio-Family-Income-Poverty  X60-sec-pulse      Systolic     Diastolic  \\\n",
              "count                 37079.000000   37079.000000  37079.000000  37079.000000   \n",
              "mean                      2.559026      72.579250    124.090078     69.919253   \n",
              "std                       1.624789      12.242108     19.254741     13.575804   \n",
              "min                       0.000000      32.000000      0.000000      0.000000   \n",
              "25%                       1.140000      64.000000    111.000000     62.000000   \n",
              "50%                       2.180000      72.000000    121.000000     70.000000   \n",
              "75%                       4.130000      80.000000    134.000000     78.000000   \n",
              "max                       5.000000     224.000000    270.000000    132.000000   \n",
              "\n",
              "             Weight        Height  ...  Total-Cholesterol           HDL  \\\n",
              "count  37079.000000  37079.000000  ...       37079.000000  37079.000000   \n",
              "mean      80.988276    167.389601  ...           5.081713      1.370344   \n",
              "std       20.678734     10.122908  ...           1.072682      0.415985   \n",
              "min       32.300000    129.700000  ...           1.530000      0.160000   \n",
              "25%       66.500000    160.000000  ...           4.320000      1.070000   \n",
              "50%       78.200000    167.100000  ...           5.020000      1.290000   \n",
              "75%       92.100000    174.600000  ...           5.740000      1.600000   \n",
              "max      371.000000    204.500000  ...          14.090000      5.840000   \n",
              "\n",
              "       Glycohemoglobin  Vigorous-work  Moderate-work  Health-Insurance  \\\n",
              "count     37079.000000   37079.000000   37079.000000      37079.000000   \n",
              "mean          5.676496       1.783840       1.598856          1.218587   \n",
              "std           1.050223       0.448324       0.511199          0.461102   \n",
              "min           2.000000       1.000000       1.000000          1.000000   \n",
              "25%           5.200000       2.000000       1.000000          1.000000   \n",
              "50%           5.400000       2.000000       2.000000          1.000000   \n",
              "75%           5.800000       2.000000       2.000000          1.000000   \n",
              "max          18.800000       3.000000       3.000000          9.000000   \n",
              "\n",
              "           Diabetes  Blood-Rel-Diabetes  Blood-Rel-Stroke  \\\n",
              "count  37079.000000        37079.000000      37079.000000   \n",
              "mean       1.907333            1.549502          1.796165   \n",
              "std        0.349674            0.497550          0.402853   \n",
              "min        1.000000            1.000000          1.000000   \n",
              "25%        2.000000            1.000000          2.000000   \n",
              "50%        2.000000            2.000000          2.000000   \n",
              "75%        2.000000            2.000000          2.000000   \n",
              "max        3.000000            2.000000          2.000000   \n",
              "\n",
              "       CoronaryHeartDisease  \n",
              "count          37079.000000  \n",
              "mean               0.040670  \n",
              "std                0.197527  \n",
              "min                0.000000  \n",
              "25%                0.000000  \n",
              "50%                0.000000  \n",
              "75%                0.000000  \n",
              "max                1.000000  \n",
              "\n",
              "[8 rows x 51 columns]"
            ],
            "text/html": [
              "\n",
              "  <div id=\"df-6de1894c-aa9a-4b98-be07-4331d3687289\" class=\"colab-df-container\">\n",
              "    <div>\n",
              "<style scoped>\n",
              "    .dataframe tbody tr th:only-of-type {\n",
              "        vertical-align: middle;\n",
              "    }\n",
              "\n",
              "    .dataframe tbody tr th {\n",
              "        vertical-align: top;\n",
              "    }\n",
              "\n",
              "    .dataframe thead th {\n",
              "        text-align: right;\n",
              "    }\n",
              "</style>\n",
              "<table border=\"1\" class=\"dataframe\">\n",
              "  <thead>\n",
              "    <tr style=\"text-align: right;\">\n",
              "      <th></th>\n",
              "      <th>SEQN</th>\n",
              "      <th>Gender</th>\n",
              "      <th>Age</th>\n",
              "      <th>Annual-Family-Income</th>\n",
              "      <th>Ratio-Family-Income-Poverty</th>\n",
              "      <th>X60-sec-pulse</th>\n",
              "      <th>Systolic</th>\n",
              "      <th>Diastolic</th>\n",
              "      <th>Weight</th>\n",
              "      <th>Height</th>\n",
              "      <th>...</th>\n",
              "      <th>Total-Cholesterol</th>\n",
              "      <th>HDL</th>\n",
              "      <th>Glycohemoglobin</th>\n",
              "      <th>Vigorous-work</th>\n",
              "      <th>Moderate-work</th>\n",
              "      <th>Health-Insurance</th>\n",
              "      <th>Diabetes</th>\n",
              "      <th>Blood-Rel-Diabetes</th>\n",
              "      <th>Blood-Rel-Stroke</th>\n",
              "      <th>CoronaryHeartDisease</th>\n",
              "    </tr>\n",
              "  </thead>\n",
              "  <tbody>\n",
              "    <tr>\n",
              "      <th>count</th>\n",
              "      <td>37079.000000</td>\n",
              "      <td>37079.000000</td>\n",
              "      <td>37079.000000</td>\n",
              "      <td>37079.000000</td>\n",
              "      <td>37079.000000</td>\n",
              "      <td>37079.000000</td>\n",
              "      <td>37079.000000</td>\n",
              "      <td>37079.000000</td>\n",
              "      <td>37079.000000</td>\n",
              "      <td>37079.000000</td>\n",
              "      <td>...</td>\n",
              "      <td>37079.000000</td>\n",
              "      <td>37079.000000</td>\n",
              "      <td>37079.000000</td>\n",
              "      <td>37079.000000</td>\n",
              "      <td>37079.000000</td>\n",
              "      <td>37079.000000</td>\n",
              "      <td>37079.000000</td>\n",
              "      <td>37079.000000</td>\n",
              "      <td>37079.000000</td>\n",
              "      <td>37079.000000</td>\n",
              "    </tr>\n",
              "    <tr>\n",
              "      <th>mean</th>\n",
              "      <td>48901.041236</td>\n",
              "      <td>1.513282</td>\n",
              "      <td>48.943661</td>\n",
              "      <td>7.358208</td>\n",
              "      <td>2.559026</td>\n",
              "      <td>72.579250</td>\n",
              "      <td>124.090078</td>\n",
              "      <td>69.919253</td>\n",
              "      <td>80.988276</td>\n",
              "      <td>167.389601</td>\n",
              "      <td>...</td>\n",
              "      <td>5.081713</td>\n",
              "      <td>1.370344</td>\n",
              "      <td>5.676496</td>\n",
              "      <td>1.783840</td>\n",
              "      <td>1.598856</td>\n",
              "      <td>1.218587</td>\n",
              "      <td>1.907333</td>\n",
              "      <td>1.549502</td>\n",
              "      <td>1.796165</td>\n",
              "      <td>0.040670</td>\n",
              "    </tr>\n",
              "    <tr>\n",
              "      <th>std</th>\n",
              "      <td>26753.636441</td>\n",
              "      <td>0.499830</td>\n",
              "      <td>18.010440</td>\n",
              "      <td>3.994083</td>\n",
              "      <td>1.624789</td>\n",
              "      <td>12.242108</td>\n",
              "      <td>19.254741</td>\n",
              "      <td>13.575804</td>\n",
              "      <td>20.678734</td>\n",
              "      <td>10.122908</td>\n",
              "      <td>...</td>\n",
              "      <td>1.072682</td>\n",
              "      <td>0.415985</td>\n",
              "      <td>1.050223</td>\n",
              "      <td>0.448324</td>\n",
              "      <td>0.511199</td>\n",
              "      <td>0.461102</td>\n",
              "      <td>0.349674</td>\n",
              "      <td>0.497550</td>\n",
              "      <td>0.402853</td>\n",
              "      <td>0.197527</td>\n",
              "    </tr>\n",
              "    <tr>\n",
              "      <th>min</th>\n",
              "      <td>2.000000</td>\n",
              "      <td>1.000000</td>\n",
              "      <td>20.000000</td>\n",
              "      <td>1.000000</td>\n",
              "      <td>0.000000</td>\n",
              "      <td>32.000000</td>\n",
              "      <td>0.000000</td>\n",
              "      <td>0.000000</td>\n",
              "      <td>32.300000</td>\n",
              "      <td>129.700000</td>\n",
              "      <td>...</td>\n",
              "      <td>1.530000</td>\n",
              "      <td>0.160000</td>\n",
              "      <td>2.000000</td>\n",
              "      <td>1.000000</td>\n",
              "      <td>1.000000</td>\n",
              "      <td>1.000000</td>\n",
              "      <td>1.000000</td>\n",
              "      <td>1.000000</td>\n",
              "      <td>1.000000</td>\n",
              "      <td>0.000000</td>\n",
              "    </tr>\n",
              "    <tr>\n",
              "      <th>25%</th>\n",
              "      <td>26120.500000</td>\n",
              "      <td>1.000000</td>\n",
              "      <td>33.000000</td>\n",
              "      <td>4.000000</td>\n",
              "      <td>1.140000</td>\n",
              "      <td>64.000000</td>\n",
              "      <td>111.000000</td>\n",
              "      <td>62.000000</td>\n",
              "      <td>66.500000</td>\n",
              "      <td>160.000000</td>\n",
              "      <td>...</td>\n",
              "      <td>4.320000</td>\n",
              "      <td>1.070000</td>\n",
              "      <td>5.200000</td>\n",
              "      <td>2.000000</td>\n",
              "      <td>1.000000</td>\n",
              "      <td>1.000000</td>\n",
              "      <td>2.000000</td>\n",
              "      <td>1.000000</td>\n",
              "      <td>2.000000</td>\n",
              "      <td>0.000000</td>\n",
              "    </tr>\n",
              "    <tr>\n",
              "      <th>50%</th>\n",
              "      <td>50065.000000</td>\n",
              "      <td>2.000000</td>\n",
              "      <td>48.000000</td>\n",
              "      <td>7.000000</td>\n",
              "      <td>2.180000</td>\n",
              "      <td>72.000000</td>\n",
              "      <td>121.000000</td>\n",
              "      <td>70.000000</td>\n",
              "      <td>78.200000</td>\n",
              "      <td>167.100000</td>\n",
              "      <td>...</td>\n",
              "      <td>5.020000</td>\n",
              "      <td>1.290000</td>\n",
              "      <td>5.400000</td>\n",
              "      <td>2.000000</td>\n",
              "      <td>2.000000</td>\n",
              "      <td>1.000000</td>\n",
              "      <td>2.000000</td>\n",
              "      <td>2.000000</td>\n",
              "      <td>2.000000</td>\n",
              "      <td>0.000000</td>\n",
              "    </tr>\n",
              "    <tr>\n",
              "      <th>75%</th>\n",
              "      <td>71173.500000</td>\n",
              "      <td>2.000000</td>\n",
              "      <td>63.000000</td>\n",
              "      <td>10.000000</td>\n",
              "      <td>4.130000</td>\n",
              "      <td>80.000000</td>\n",
              "      <td>134.000000</td>\n",
              "      <td>78.000000</td>\n",
              "      <td>92.100000</td>\n",
              "      <td>174.600000</td>\n",
              "      <td>...</td>\n",
              "      <td>5.740000</td>\n",
              "      <td>1.600000</td>\n",
              "      <td>5.800000</td>\n",
              "      <td>2.000000</td>\n",
              "      <td>2.000000</td>\n",
              "      <td>1.000000</td>\n",
              "      <td>2.000000</td>\n",
              "      <td>2.000000</td>\n",
              "      <td>2.000000</td>\n",
              "      <td>0.000000</td>\n",
              "    </tr>\n",
              "    <tr>\n",
              "      <th>max</th>\n",
              "      <td>93702.000000</td>\n",
              "      <td>2.000000</td>\n",
              "      <td>85.000000</td>\n",
              "      <td>15.000000</td>\n",
              "      <td>5.000000</td>\n",
              "      <td>224.000000</td>\n",
              "      <td>270.000000</td>\n",
              "      <td>132.000000</td>\n",
              "      <td>371.000000</td>\n",
              "      <td>204.500000</td>\n",
              "      <td>...</td>\n",
              "      <td>14.090000</td>\n",
              "      <td>5.840000</td>\n",
              "      <td>18.800000</td>\n",
              "      <td>3.000000</td>\n",
              "      <td>3.000000</td>\n",
              "      <td>9.000000</td>\n",
              "      <td>3.000000</td>\n",
              "      <td>2.000000</td>\n",
              "      <td>2.000000</td>\n",
              "      <td>1.000000</td>\n",
              "    </tr>\n",
              "  </tbody>\n",
              "</table>\n",
              "<p>8 rows × 51 columns</p>\n",
              "</div>\n",
              "    <div class=\"colab-df-buttons\">\n",
              "\n",
              "  <div class=\"colab-df-container\">\n",
              "    <button class=\"colab-df-convert\" onclick=\"convertToInteractive('df-6de1894c-aa9a-4b98-be07-4331d3687289')\"\n",
              "            title=\"Convert this dataframe to an interactive table.\"\n",
              "            style=\"display:none;\">\n",
              "\n",
              "  <svg xmlns=\"http://www.w3.org/2000/svg\" height=\"24px\" viewBox=\"0 -960 960 960\">\n",
              "    <path d=\"M120-120v-720h720v720H120Zm60-500h600v-160H180v160Zm220 220h160v-160H400v160Zm0 220h160v-160H400v160ZM180-400h160v-160H180v160Zm440 0h160v-160H620v160ZM180-180h160v-160H180v160Zm440 0h160v-160H620v160Z\"/>\n",
              "  </svg>\n",
              "    </button>\n",
              "\n",
              "  <style>\n",
              "    .colab-df-container {\n",
              "      display:flex;\n",
              "      gap: 12px;\n",
              "    }\n",
              "\n",
              "    .colab-df-convert {\n",
              "      background-color: #E8F0FE;\n",
              "      border: none;\n",
              "      border-radius: 50%;\n",
              "      cursor: pointer;\n",
              "      display: none;\n",
              "      fill: #1967D2;\n",
              "      height: 32px;\n",
              "      padding: 0 0 0 0;\n",
              "      width: 32px;\n",
              "    }\n",
              "\n",
              "    .colab-df-convert:hover {\n",
              "      background-color: #E2EBFA;\n",
              "      box-shadow: 0px 1px 2px rgba(60, 64, 67, 0.3), 0px 1px 3px 1px rgba(60, 64, 67, 0.15);\n",
              "      fill: #174EA6;\n",
              "    }\n",
              "\n",
              "    .colab-df-buttons div {\n",
              "      margin-bottom: 4px;\n",
              "    }\n",
              "\n",
              "    [theme=dark] .colab-df-convert {\n",
              "      background-color: #3B4455;\n",
              "      fill: #D2E3FC;\n",
              "    }\n",
              "\n",
              "    [theme=dark] .colab-df-convert:hover {\n",
              "      background-color: #434B5C;\n",
              "      box-shadow: 0px 1px 3px 1px rgba(0, 0, 0, 0.15);\n",
              "      filter: drop-shadow(0px 1px 2px rgba(0, 0, 0, 0.3));\n",
              "      fill: #FFFFFF;\n",
              "    }\n",
              "  </style>\n",
              "\n",
              "    <script>\n",
              "      const buttonEl =\n",
              "        document.querySelector('#df-6de1894c-aa9a-4b98-be07-4331d3687289 button.colab-df-convert');\n",
              "      buttonEl.style.display =\n",
              "        google.colab.kernel.accessAllowed ? 'block' : 'none';\n",
              "\n",
              "      async function convertToInteractive(key) {\n",
              "        const element = document.querySelector('#df-6de1894c-aa9a-4b98-be07-4331d3687289');\n",
              "        const dataTable =\n",
              "          await google.colab.kernel.invokeFunction('convertToInteractive',\n",
              "                                                    [key], {});\n",
              "        if (!dataTable) return;\n",
              "\n",
              "        const docLinkHtml = 'Like what you see? Visit the ' +\n",
              "          '<a target=\"_blank\" href=https://colab.research.google.com/notebooks/data_table.ipynb>data table notebook</a>'\n",
              "          + ' to learn more about interactive tables.';\n",
              "        element.innerHTML = '';\n",
              "        dataTable['output_type'] = 'display_data';\n",
              "        await google.colab.output.renderOutput(dataTable, element);\n",
              "        const docLink = document.createElement('div');\n",
              "        docLink.innerHTML = docLinkHtml;\n",
              "        element.appendChild(docLink);\n",
              "      }\n",
              "    </script>\n",
              "  </div>\n",
              "\n",
              "\n",
              "    <div id=\"df-8e4eb5af-96c3-4221-8303-8fe8ac7947c4\">\n",
              "      <button class=\"colab-df-quickchart\" onclick=\"quickchart('df-8e4eb5af-96c3-4221-8303-8fe8ac7947c4')\"\n",
              "                title=\"Suggest charts\"\n",
              "                style=\"display:none;\">\n",
              "\n",
              "<svg xmlns=\"http://www.w3.org/2000/svg\" height=\"24px\"viewBox=\"0 0 24 24\"\n",
              "     width=\"24px\">\n",
              "    <g>\n",
              "        <path d=\"M19 3H5c-1.1 0-2 .9-2 2v14c0 1.1.9 2 2 2h14c1.1 0 2-.9 2-2V5c0-1.1-.9-2-2-2zM9 17H7v-7h2v7zm4 0h-2V7h2v10zm4 0h-2v-4h2v4z\"/>\n",
              "    </g>\n",
              "</svg>\n",
              "      </button>\n",
              "\n",
              "<style>\n",
              "  .colab-df-quickchart {\n",
              "      --bg-color: #E8F0FE;\n",
              "      --fill-color: #1967D2;\n",
              "      --hover-bg-color: #E2EBFA;\n",
              "      --hover-fill-color: #174EA6;\n",
              "      --disabled-fill-color: #AAA;\n",
              "      --disabled-bg-color: #DDD;\n",
              "  }\n",
              "\n",
              "  [theme=dark] .colab-df-quickchart {\n",
              "      --bg-color: #3B4455;\n",
              "      --fill-color: #D2E3FC;\n",
              "      --hover-bg-color: #434B5C;\n",
              "      --hover-fill-color: #FFFFFF;\n",
              "      --disabled-bg-color: #3B4455;\n",
              "      --disabled-fill-color: #666;\n",
              "  }\n",
              "\n",
              "  .colab-df-quickchart {\n",
              "    background-color: var(--bg-color);\n",
              "    border: none;\n",
              "    border-radius: 50%;\n",
              "    cursor: pointer;\n",
              "    display: none;\n",
              "    fill: var(--fill-color);\n",
              "    height: 32px;\n",
              "    padding: 0;\n",
              "    width: 32px;\n",
              "  }\n",
              "\n",
              "  .colab-df-quickchart:hover {\n",
              "    background-color: var(--hover-bg-color);\n",
              "    box-shadow: 0 1px 2px rgba(60, 64, 67, 0.3), 0 1px 3px 1px rgba(60, 64, 67, 0.15);\n",
              "    fill: var(--button-hover-fill-color);\n",
              "  }\n",
              "\n",
              "  .colab-df-quickchart-complete:disabled,\n",
              "  .colab-df-quickchart-complete:disabled:hover {\n",
              "    background-color: var(--disabled-bg-color);\n",
              "    fill: var(--disabled-fill-color);\n",
              "    box-shadow: none;\n",
              "  }\n",
              "\n",
              "  .colab-df-spinner {\n",
              "    border: 2px solid var(--fill-color);\n",
              "    border-color: transparent;\n",
              "    border-bottom-color: var(--fill-color);\n",
              "    animation:\n",
              "      spin 1s steps(1) infinite;\n",
              "  }\n",
              "\n",
              "  @keyframes spin {\n",
              "    0% {\n",
              "      border-color: transparent;\n",
              "      border-bottom-color: var(--fill-color);\n",
              "      border-left-color: var(--fill-color);\n",
              "    }\n",
              "    20% {\n",
              "      border-color: transparent;\n",
              "      border-left-color: var(--fill-color);\n",
              "      border-top-color: var(--fill-color);\n",
              "    }\n",
              "    30% {\n",
              "      border-color: transparent;\n",
              "      border-left-color: var(--fill-color);\n",
              "      border-top-color: var(--fill-color);\n",
              "      border-right-color: var(--fill-color);\n",
              "    }\n",
              "    40% {\n",
              "      border-color: transparent;\n",
              "      border-right-color: var(--fill-color);\n",
              "      border-top-color: var(--fill-color);\n",
              "    }\n",
              "    60% {\n",
              "      border-color: transparent;\n",
              "      border-right-color: var(--fill-color);\n",
              "    }\n",
              "    80% {\n",
              "      border-color: transparent;\n",
              "      border-right-color: var(--fill-color);\n",
              "      border-bottom-color: var(--fill-color);\n",
              "    }\n",
              "    90% {\n",
              "      border-color: transparent;\n",
              "      border-bottom-color: var(--fill-color);\n",
              "    }\n",
              "  }\n",
              "</style>\n",
              "\n",
              "      <script>\n",
              "        async function quickchart(key) {\n",
              "          const quickchartButtonEl =\n",
              "            document.querySelector('#' + key + ' button');\n",
              "          quickchartButtonEl.disabled = true;  // To prevent multiple clicks.\n",
              "          quickchartButtonEl.classList.add('colab-df-spinner');\n",
              "          try {\n",
              "            const charts = await google.colab.kernel.invokeFunction(\n",
              "                'suggestCharts', [key], {});\n",
              "          } catch (error) {\n",
              "            console.error('Error during call to suggestCharts:', error);\n",
              "          }\n",
              "          quickchartButtonEl.classList.remove('colab-df-spinner');\n",
              "          quickchartButtonEl.classList.add('colab-df-quickchart-complete');\n",
              "        }\n",
              "        (() => {\n",
              "          let quickchartButtonEl =\n",
              "            document.querySelector('#df-8e4eb5af-96c3-4221-8303-8fe8ac7947c4 button');\n",
              "          quickchartButtonEl.style.display =\n",
              "            google.colab.kernel.accessAllowed ? 'block' : 'none';\n",
              "        })();\n",
              "      </script>\n",
              "    </div>\n",
              "\n",
              "    </div>\n",
              "  </div>\n"
            ],
            "application/vnd.google.colaboratory.intrinsic+json": {
              "type": "dataframe"
            }
          },
          "metadata": {},
          "execution_count": 7
        }
      ],
      "source": [
        "data.describe()"
      ]
    },
    {
      "cell_type": "markdown",
      "metadata": {
        "id": "sy__kM3a-O6s"
      },
      "source": [
        "# Feature Selection\n"
      ]
    },
    {
      "cell_type": "markdown",
      "metadata": {
        "id": "krlfUjQa-nBE"
      },
      "source": [
        "**ALGORITHM : BMPA**"
      ]
    },
    {
      "cell_type": "code",
      "execution_count": null,
      "metadata": {
        "colab": {
          "base_uri": "https://localhost:8080/"
        },
        "collapsed": true,
        "id": "tICgY3FPLIAj",
        "outputId": "16d4c493-2230-4a80-a39e-5bb1893755bb"
      },
      "outputs": [
        {
          "output_type": "stream",
          "name": "stdout",
          "text": [
            "total 8184\n",
            "-rw-r--r-- 1 root root 8374838 Oct 16 10:35 data_up.csv\n",
            "drwxr-xr-x 1 root root    4096 Oct 14 13:41 sample_data\n"
          ]
        }
      ],
      "source": [
        "!ls -l\n"
      ]
    },
    {
      "cell_type": "code",
      "execution_count": null,
      "metadata": {
        "colab": {
          "base_uri": "https://localhost:8080/"
        },
        "collapsed": true,
        "id": "qpgEK8NhlZ8x",
        "outputId": "c41a7cf1-8c46-43b8-dedb-54da33512d2d"
      },
      "outputs": [
        {
          "output_type": "stream",
          "name": "stdout",
          "text": [
            "Requirement already satisfied: mealpy in /usr/local/lib/python3.12/dist-packages (3.0.3)\n",
            "Requirement already satisfied: numpy<=1.26.0,>=1.17.1 in /usr/local/lib/python3.12/dist-packages (from mealpy) (1.26.0)\n",
            "Requirement already satisfied: scipy>=1.7.1 in /usr/local/lib/python3.12/dist-packages (from mealpy) (1.16.2)\n",
            "Requirement already satisfied: pandas>=1.2.0 in /usr/local/lib/python3.12/dist-packages (from mealpy) (2.2.2)\n",
            "Requirement already satisfied: matplotlib>=3.1.3 in /usr/local/lib/python3.12/dist-packages (from mealpy) (3.10.0)\n",
            "Requirement already satisfied: opfunu>=1.0.0 in /usr/local/lib/python3.12/dist-packages (from mealpy) (1.0.1)\n",
            "Requirement already satisfied: contourpy>=1.0.1 in /usr/local/lib/python3.12/dist-packages (from matplotlib>=3.1.3->mealpy) (1.3.3)\n",
            "Requirement already satisfied: cycler>=0.10 in /usr/local/lib/python3.12/dist-packages (from matplotlib>=3.1.3->mealpy) (0.12.1)\n",
            "Requirement already satisfied: fonttools>=4.22.0 in /usr/local/lib/python3.12/dist-packages (from matplotlib>=3.1.3->mealpy) (4.60.1)\n",
            "Requirement already satisfied: kiwisolver>=1.3.1 in /usr/local/lib/python3.12/dist-packages (from matplotlib>=3.1.3->mealpy) (1.4.9)\n",
            "Requirement already satisfied: packaging>=20.0 in /usr/local/lib/python3.12/dist-packages (from matplotlib>=3.1.3->mealpy) (25.0)\n",
            "Requirement already satisfied: pillow>=8 in /usr/local/lib/python3.12/dist-packages (from matplotlib>=3.1.3->mealpy) (11.3.0)\n",
            "Requirement already satisfied: pyparsing>=2.3.1 in /usr/local/lib/python3.12/dist-packages (from matplotlib>=3.1.3->mealpy) (3.2.5)\n",
            "Requirement already satisfied: python-dateutil>=2.7 in /usr/local/lib/python3.12/dist-packages (from matplotlib>=3.1.3->mealpy) (2.9.0.post0)\n",
            "Requirement already satisfied: requests>=2.27.0 in /usr/local/lib/python3.12/dist-packages (from opfunu>=1.0.0->mealpy) (2.32.4)\n",
            "Requirement already satisfied: pytz>=2020.1 in /usr/local/lib/python3.12/dist-packages (from pandas>=1.2.0->mealpy) (2025.2)\n",
            "Requirement already satisfied: tzdata>=2022.7 in /usr/local/lib/python3.12/dist-packages (from pandas>=1.2.0->mealpy) (2025.2)\n",
            "Requirement already satisfied: six>=1.5 in /usr/local/lib/python3.12/dist-packages (from python-dateutil>=2.7->matplotlib>=3.1.3->mealpy) (1.17.0)\n",
            "Requirement already satisfied: charset_normalizer<4,>=2 in /usr/local/lib/python3.12/dist-packages (from requests>=2.27.0->opfunu>=1.0.0->mealpy) (3.4.3)\n",
            "Requirement already satisfied: idna<4,>=2.5 in /usr/local/lib/python3.12/dist-packages (from requests>=2.27.0->opfunu>=1.0.0->mealpy) (3.10)\n",
            "Requirement already satisfied: urllib3<3,>=1.21.1 in /usr/local/lib/python3.12/dist-packages (from requests>=2.27.0->opfunu>=1.0.0->mealpy) (2.5.0)\n",
            "Requirement already satisfied: certifi>=2017.4.17 in /usr/local/lib/python3.12/dist-packages (from requests>=2.27.0->opfunu>=1.0.0->mealpy) (2025.10.5)\n"
          ]
        }
      ],
      "source": [
        "!pip install mealpy\n"
      ]
    },
    {
      "cell_type": "code",
      "execution_count": null,
      "metadata": {
        "colab": {
          "base_uri": "https://localhost:8080/"
        },
        "collapsed": true,
        "id": "gkN47zTYNsQu",
        "outputId": "2f32f2f3-afa0-4da7-b5b6-ca46f246c4e7"
      },
      "outputs": [
        {
          "output_type": "stream",
          "name": "stdout",
          "text": [
            "['mealpy.swarm_based.MPA']\n"
          ]
        }
      ],
      "source": [
        "import mealpy\n",
        "import pkgutil\n",
        "mods = [name for _, name, _ in pkgutil.walk_packages(mealpy.__path__, mealpy.__name__ + \".\")]\n",
        "\n",
        "print([m for m in mods if \"mpa\" in m.lower() or \"bmpa\" in m.lower()])\n"
      ]
    },
    {
      "cell_type": "code",
      "execution_count": null,
      "metadata": {
        "colab": {
          "base_uri": "https://localhost:8080/"
        },
        "collapsed": true,
        "id": "5j3GRUIxOYdJ",
        "outputId": "923ca258-aa24-4826-f0a3-9caa4e912eb8"
      },
      "outputs": [
        {
          "output_type": "stream",
          "name": "stdout",
          "text": [
            "  Preparing metadata (setup.py) ... \u001b[?25l\u001b[?25hdone\n",
            "\u001b[2K     \u001b[90m━━━━━━━━━━━━━━━━━━━━━━━━━━━━━━━━━━━━━━━━\u001b[0m \u001b[32m91.2/91.2 kB\u001b[0m \u001b[31m3.0 MB/s\u001b[0m eta \u001b[36m0:00:00\u001b[0m\n",
            "\u001b[2K     \u001b[90m━━━━━━━━━━━━━━━━━━━━━━━━━━━━━━━━━━━━━━━━\u001b[0m \u001b[32m62.1/62.1 kB\u001b[0m \u001b[31m2.9 MB/s\u001b[0m eta \u001b[36m0:00:00\u001b[0m\n",
            "\u001b[2K   \u001b[90m━━━━━━━━━━━━━━━━━━━━━━━━━━━━━━━━━━━━━━━━\u001b[0m \u001b[32m9.5/9.5 MB\u001b[0m \u001b[31m53.1 MB/s\u001b[0m eta \u001b[36m0:00:00\u001b[0m\n",
            "\u001b[2K   \u001b[90m━━━━━━━━━━━━━━━━━━━━━━━━━━━━━━━━━━━━━━━━\u001b[0m \u001b[32m12.4/12.4 MB\u001b[0m \u001b[31m39.4 MB/s\u001b[0m eta \u001b[36m0:00:00\u001b[0m\n",
            "\u001b[?25h\u001b[31mERROR: pip's dependency resolver does not currently take into account all the packages that are installed. This behaviour is the source of the following dependency conflicts.\n",
            "google-colab 1.0.0 requires pandas==2.2.2, but you have pandas 2.3.3 which is incompatible.\n",
            "dask-cudf-cu12 25.6.0 requires pandas<2.2.4dev0,>=2.0, but you have pandas 2.3.3 which is incompatible.\n",
            "cudf-cu12 25.6.0 requires pandas<2.2.4dev0,>=2.0, but you have pandas 2.3.3 which is incompatible.\u001b[0m\u001b[31m\n",
            "\u001b[0m"
          ]
        }
      ],
      "source": [
        "!pip install --upgrade git+https://github.com/thieu1995/mealpy.git scikit-learn pandas numpy -q"
      ]
    },
    {
      "cell_type": "markdown",
      "metadata": {
        "id": "8NJOnyYPO5xd"
      },
      "source": [
        "Imports\n"
      ]
    },
    {
      "cell_type": "code",
      "execution_count": null,
      "metadata": {
        "id": "jKkkpKMmOwPT"
      },
      "outputs": [],
      "source": [
        "import pandas as pd, numpy as np\n",
        "from sklearn.model_selection import train_test_split,cross_val_score\n",
        "from sklearn.ensemble import RandomForestClassifier\n",
        "from sklearn.metrics import accuracy_score\n",
        "from mealpy.swarm_based.MPA import OriginalMPA\n",
        "from mealpy.utils.space import BinaryVar"
      ]
    },
    {
      "cell_type": "markdown",
      "metadata": {
        "id": "xxdUj5ehPDVW"
      },
      "source": [
        "Load dataset\n"
      ]
    },
    {
      "cell_type": "code",
      "execution_count": null,
      "metadata": {
        "id": "ArrOX81EUrVO"
      },
      "outputs": [],
      "source": [
        "df = pd.read_csv('data_up.csv')"
      ]
    },
    {
      "cell_type": "code",
      "execution_count": null,
      "metadata": {
        "id": "US2gger1PFvO"
      },
      "outputs": [],
      "source": [
        "X = df.drop(columns=['SEQN', 'CoronaryHeartDisease'])"
      ]
    },
    {
      "cell_type": "code",
      "execution_count": null,
      "metadata": {
        "id": "dFtlzL5sVWwO"
      },
      "outputs": [],
      "source": [
        "y = df['CoronaryHeartDisease']"
      ]
    },
    {
      "cell_type": "markdown",
      "metadata": {
        "id": "a4zY3kpSPXwm"
      },
      "source": [
        "Here we are defining fitness function by (minimize 1- accuracy)\n",
        "And also we Train/Test split\n",
        "\n"
      ]
    },
    {
      "cell_type": "code",
      "execution_count": null,
      "metadata": {
        "id": "gRRbPGWHPVeD"
      },
      "outputs": [],
      "source": [
        "def fitness(sol):\n",
        "    mask = sol > 0.5\n",
        "    if not mask.any():\n",
        "        return 1\n",
        "    Xs = X.loc[:, mask]\n",
        "\n",
        "    Xtr, Xte, ytr, yte = train_test_split(Xs, y, test_size=0.2, random_state=42)\n",
        "    clf = RandomForestClassifier(random_state=42).fit(Xtr, ytr)\n",
        "\n",
        "    return 1 - accuracy_score(yte, clf.predict(Xte))"
      ]
    },
    {
      "cell_type": "markdown",
      "metadata": {
        "id": "Dyce-bndvxRK"
      },
      "source": [
        "Binary Variables for MPA\n"
      ]
    },
    {
      "cell_type": "code",
      "execution_count": null,
      "metadata": {
        "id": "50DCEKrCpR8S"
      },
      "outputs": [],
      "source": [
        "bounds = [BinaryVar() for _ in range(X.shape[1])]"
      ]
    },
    {
      "cell_type": "markdown",
      "metadata": {
        "id": "JkngVhCZPzSu"
      },
      "source": [
        "Defining Optimization Problem\n",
        "\n",
        "\n"
      ]
    },
    {
      "cell_type": "code",
      "execution_count": null,
      "metadata": {
        "id": "TZQGM2MVP5J-"
      },
      "outputs": [],
      "source": [
        "problem = {\n",
        "    \"obj_func\": fitness,\n",
        "    \"bounds\": bounds,\n",
        "    \"minmax\": \"min\",\n",
        "}"
      ]
    },
    {
      "cell_type": "markdown",
      "metadata": {
        "id": "HwBLuivGRjJk"
      },
      "source": [
        "Initializing Model and Running Binary MPA"
      ]
    },
    {
      "cell_type": "code",
      "execution_count": null,
      "metadata": {
        "colab": {
          "base_uri": "https://localhost:8080/"
        },
        "collapsed": true,
        "id": "0ksPvyjlRl6k",
        "outputId": "dc11296c-7f8c-4e80-bd69-483565938c6b"
      },
      "outputs": [
        {
          "output_type": "stream",
          "name": "stderr",
          "text": [
            "INFO:mealpy.swarm_based.MPA.OriginalMPA:OriginalMPA(epoch=5, pop_size=20)\n",
            "INFO:mealpy.swarm_based.MPA.OriginalMPA:>>>Problem: P, Epoch: 1, Current best: 0.04139697950377563, Global best: 0.04139697950377563, Runtime: 167.42458 seconds\n",
            "INFO:mealpy.swarm_based.MPA.OriginalMPA:>>>Problem: P, Epoch: 2, Current best: 0.04139697950377563, Global best: 0.04139697950377563, Runtime: 175.34929 seconds\n",
            "INFO:mealpy.swarm_based.MPA.OriginalMPA:>>>Problem: P, Epoch: 3, Current best: 0.04139697950377563, Global best: 0.04139697950377563, Runtime: 170.62871 seconds\n",
            "INFO:mealpy.swarm_based.MPA.OriginalMPA:>>>Problem: P, Epoch: 4, Current best: 0.04139697950377563, Global best: 0.04139697950377563, Runtime: 151.28487 seconds\n",
            "INFO:mealpy.swarm_based.MPA.OriginalMPA:>>>Problem: P, Epoch: 5, Current best: 0.04139697950377563, Global best: 0.04139697950377563, Runtime: 146.53248 seconds\n"
          ]
        }
      ],
      "source": [
        "model = OriginalMPA(epoch=5, pop_size=20)\n",
        "result = model.solve(problem)"
      ]
    },
    {
      "cell_type": "markdown",
      "metadata": {
        "id": "LiNICQnKwD4z"
      },
      "source": [
        "Extracting best solution\n"
      ]
    },
    {
      "cell_type": "code",
      "execution_count": null,
      "metadata": {
        "colab": {
          "base_uri": "https://localhost:8080/"
        },
        "id": "l4dhPMjZroxk",
        "outputId": "352b22cd-59d2-4262-8ba7-4b7959bee7d7"
      },
      "outputs": [
        {
          "output_type": "stream",
          "name": "stdout",
          "text": [
            "Could not find fitness attribute in result. Inspect result.__dict__\n"
          ]
        }
      ],
      "source": [
        "best_position = result.solution\n",
        "\n",
        "if hasattr(result, \"solution_fitness\"):\n",
        "    best_fitness = result.solution_fitness\n",
        "elif hasattr(result, \"fitness_history\"):\n",
        "    best_fitness = result.fitness_history[-1]\n",
        "else:\n",
        "    best_fitness = None\n",
        "    print(\"Could not find fitness attribute in result. Inspect result.__dict__\")\n",
        "\n"
      ]
    },
    {
      "cell_type": "markdown",
      "metadata": {
        "id": "qq9maiV0wPdw"
      },
      "source": [
        "Selected Features\n"
      ]
    },
    {
      "cell_type": "code",
      "execution_count": null,
      "metadata": {
        "id": "mSOB0jJGwRud"
      },
      "outputs": [],
      "source": [
        "selected_features = np.where(best_position > 0.05)[0]\n",
        "X_selected = X.iloc[:, selected_features] if selected_features.size > 0 else pd.DataFrame()\n",
        "\n"
      ]
    },
    {
      "cell_type": "markdown",
      "metadata": {
        "id": "3MUiURoTwUzV"
      },
      "source": [
        "Calculating the Actual Accuracy and printing the results"
      ]
    },
    {
      "cell_type": "code",
      "execution_count": null,
      "metadata": {
        "collapsed": true,
        "id": "betXabeqwX27"
      },
      "outputs": [],
      "source": [
        "if X_selected.shape[1] > 0:\n",
        "    clf_final = RandomForestClassifier(random_state=42)\n",
        "    accuracy = np.mean(cross_val_score(clf_final, X_selected, y, cv=5))\n",
        "else:\n",
        "    accuracy = 0\n",
        "\n"
      ]
    },
    {
      "cell_type": "code",
      "execution_count": null,
      "metadata": {
        "colab": {
          "base_uri": "https://localhost:8080/"
        },
        "id": "_NAYkTvYvYYE",
        "outputId": "a81e223b-b29a-491c-92c3-5bd0c6a14d0c"
      },
      "outputs": [
        {
          "output_type": "stream",
          "name": "stdout",
          "text": [
            "Best Fitness (1 - Accuracy): None\n"
          ]
        }
      ],
      "source": [
        "print(\"Best Fitness (1 - Accuracy):\", best_fitness)\n"
      ]
    },
    {
      "cell_type": "code",
      "execution_count": null,
      "metadata": {
        "colab": {
          "base_uri": "https://localhost:8080/"
        },
        "id": "cezUJ-QwvRn4",
        "outputId": "b1863849-954f-47f0-e195-4239f52024fd"
      },
      "outputs": [
        {
          "output_type": "stream",
          "name": "stdout",
          "text": [
            "Selected Features: [ 0  1  2  3  4  6  7  9 10 11 13 14 15 16 17 19 20 22 24 27 28 30 31 32\n",
            " 34 35 36 37 39 40 41 43 44 45 47 48]\n"
          ]
        }
      ],
      "source": [
        "print(\"Selected Features:\", selected_features)\n"
      ]
    },
    {
      "cell_type": "code",
      "execution_count": null,
      "metadata": {
        "colab": {
          "base_uri": "https://localhost:8080/"
        },
        "id": "lr2bEhJRvR-n",
        "outputId": "b5c98b4d-246d-4131-a2dd-734ae5aa3324"
      },
      "outputs": [
        {
          "output_type": "stream",
          "name": "stdout",
          "text": [
            "Total Features Selected: 36\n"
          ]
        }
      ],
      "source": [
        "print(\"Total Features Selected:\", len(selected_features))\n"
      ]
    },
    {
      "cell_type": "code",
      "execution_count": null,
      "metadata": {
        "colab": {
          "base_uri": "https://localhost:8080/"
        },
        "id": "rHlQNdS3vSXg",
        "outputId": "f7eda105-6991-4520-eefc-fa647e77ba21"
      },
      "outputs": [
        {
          "output_type": "stream",
          "name": "stdout",
          "text": [
            "Accuracy of Selected Features: 0.9593570498006532\n"
          ]
        }
      ],
      "source": [
        "print(\"Accuracy of Selected Features:\", accuracy)"
      ]
    },
    {
      "cell_type": "markdown",
      "metadata": {
        "id": "Ac_4yC9H_See"
      },
      "source": [
        "**ALGORITHM : EBPSO**"
      ]
    },
    {
      "cell_type": "markdown",
      "metadata": {
        "id": "lh-6bg5F3Xzq"
      },
      "source": []
    },
    {
      "cell_type": "markdown",
      "metadata": {
        "id": "mS1KlQkQ50Gp"
      },
      "source": [
        "Installing MealPy"
      ]
    },
    {
      "cell_type": "code",
      "execution_count": null,
      "metadata": {
        "id": "UpC3QXf23Zmc"
      },
      "outputs": [],
      "source": [
        "!pip install mealpy --quiet\n"
      ]
    },
    {
      "cell_type": "markdown",
      "metadata": {
        "id": "r-xDFZCE54NB"
      },
      "source": [
        "Importing Libraries"
      ]
    },
    {
      "cell_type": "code",
      "execution_count": null,
      "metadata": {
        "id": "_9xXM-zD3eFr"
      },
      "outputs": [],
      "source": [
        "import pandas as pd\n",
        "import numpy as np\n",
        "from sklearn.model_selection import train_test_split, cross_val_score\n",
        "from sklearn.ensemble import RandomForestClassifier\n",
        "from sklearn.metrics import accuracy_score\n",
        "\n",
        "from mealpy.swarm_based.PSO import C_PSO\n",
        "from mealpy.utils.space import BinaryVar\n"
      ]
    },
    {
      "cell_type": "markdown",
      "metadata": {
        "id": "TrCt9Xkz5_W0"
      },
      "source": [
        "Loading dataset"
      ]
    },
    {
      "cell_type": "code",
      "execution_count": null,
      "metadata": {
        "id": "JtDrLU9v5oL5"
      },
      "outputs": [],
      "source": [
        "df = pd.read_csv('data_up.csv')\n",
        "X, y = df.iloc[:, :-1], df.iloc[:, -1]\n",
        "\n"
      ]
    },
    {
      "cell_type": "markdown",
      "metadata": {
        "id": "4ZOH7hzl6Fev"
      },
      "source": [
        "Ensuring X is DataFrame and y is ID array"
      ]
    },
    {
      "cell_type": "code",
      "execution_count": null,
      "metadata": {
        "id": "WF9cWPiC6D9e"
      },
      "outputs": [],
      "source": [
        "\n",
        "X = pd.DataFrame(X)\n",
        "y = np.array(y).ravel()"
      ]
    },
    {
      "cell_type": "markdown",
      "metadata": {
        "id": "_q5YFE_66Q1F"
      },
      "source": [
        "Defining Fitness Function and Train/Test split"
      ]
    },
    {
      "cell_type": "markdown",
      "metadata": {
        "id": "zWyppiZp6DYz"
      },
      "source": []
    },
    {
      "cell_type": "code",
      "execution_count": null,
      "metadata": {
        "id": "l3WcLnLb5p_a"
      },
      "outputs": [],
      "source": [
        "def fitness(sol):\n",
        "    mask = sol > 0.5\n",
        "    if not mask.any():\n",
        "        return 1\n",
        "    Xs = X.loc[:, mask]\n",
        "\n",
        "    Xtr, Xte, ytr, yte = train_test_split(Xs, y, test_size=0.2, random_state=42)\n",
        "    clf = RandomForestClassifier(random_state=42).fit(Xtr, ytr)\n",
        "\n",
        "    return 1 - accuracy_score(yte, clf.predict(Xte))\n"
      ]
    },
    {
      "cell_type": "markdown",
      "metadata": {
        "id": "YpjV0J9u6ea1"
      },
      "source": [
        "Defining Binary Variables"
      ]
    },
    {
      "cell_type": "code",
      "execution_count": null,
      "metadata": {
        "id": "yJBbxhK85sbb"
      },
      "outputs": [],
      "source": [
        "bounds = [BinaryVar() for _ in range(X.shape[1])]\n",
        "problem = {\n",
        "    \"obj_func\": fitness,\n",
        "    \"bounds\": bounds,\n",
        "    \"minmax\": \"min\",\n",
        "}\n"
      ]
    },
    {
      "cell_type": "markdown",
      "metadata": {
        "id": "ILydhHUk6mza"
      },
      "source": [
        "Run"
      ]
    },
    {
      "cell_type": "code",
      "execution_count": null,
      "metadata": {
        "colab": {
          "base_uri": "https://localhost:8080/"
        },
        "collapsed": true,
        "id": "gAxR5HgW5uuL",
        "outputId": "088d6ebc-f628-404b-d147-bde4ee3b098d"
      },
      "outputs": [
        {
          "output_type": "stream",
          "name": "stderr",
          "text": [
            "INFO:mealpy.swarm_based.PSO.C_PSO:C_PSO(epoch=3, pop_size=20, c1=2.05, c2=2.05, w_min=0.4, w_max=0.9)\n",
            "INFO:mealpy.swarm_based.PSO.C_PSO:>>>Problem: P, Epoch: 1, Current best: 0.04153182308522119, Global best: 0.04153182308522119, Runtime: 314.74196 seconds\n",
            "INFO:mealpy.swarm_based.PSO.C_PSO:>>>Problem: P, Epoch: 2, Current best: 0.04153182308522119, Global best: 0.04153182308522119, Runtime: 306.38196 seconds\n",
            "INFO:mealpy.swarm_based.PSO.C_PSO:>>>Problem: P, Epoch: 3, Current best: 0.04153182308522119, Global best: 0.04153182308522119, Runtime: 308.53841 seconds\n"
          ]
        }
      ],
      "source": [
        "model = C_PSO(epoch=3, pop_size=20)\n",
        "result = model.solve(problem)\n"
      ]
    },
    {
      "cell_type": "markdown",
      "metadata": {
        "id": "N6OqaS5j6pgh"
      },
      "source": [
        "Extracting Best Solution"
      ]
    },
    {
      "cell_type": "code",
      "execution_count": null,
      "metadata": {
        "id": "Unoe_ObH6rve"
      },
      "outputs": [],
      "source": [
        "best_position = result.solution\n",
        "best_fitness = getattr(result, \"solution_fitness\", None) or getattr(result, \"fitness_history\", [None])[-1]\n"
      ]
    },
    {
      "cell_type": "markdown",
      "metadata": {
        "id": "i2ZJZyn16w9E"
      },
      "source": [
        "Calculating Final Accuracy"
      ]
    },
    {
      "cell_type": "code",
      "execution_count": null,
      "metadata": {
        "id": "EtyRscnL6z-6"
      },
      "outputs": [],
      "source": [
        "if X_selected.shape[1] > 0:\n",
        "    clf_final = RandomForestClassifier(random_state=42)\n",
        "    accuracy = np.mean(cross_val_score(clf_final, X_selected, y, cv=5))\n",
        "else:\n",
        "    accuracy = 0\n"
      ]
    },
    {
      "cell_type": "markdown",
      "metadata": {
        "id": "QzxLLQuw62vZ"
      },
      "source": [
        "Printing Results"
      ]
    },
    {
      "cell_type": "code",
      "execution_count": null,
      "metadata": {
        "id": "eHnat_pu64uW"
      },
      "outputs": [],
      "source": [
        "print(\"Best Fitness (1 - Accuracy):\", best_fitness)\n",
        "print(\"Selected Features Indices:\", selected_features)\n",
        "print(\"Total Features Selected:\", len(selected_features))\n",
        "print(\"Accuracy of Selected Features:\", accuracy)\n"
      ]
    }
  ],
  "metadata": {
    "accelerator": "GPU",
    "colab": {
      "gpuType": "T4",
      "provenance": []
    },
    "kernelspec": {
      "display_name": "Python 3",
      "name": "python3"
    },
    "language_info": {
      "name": "python"
    }
  },
  "nbformat": 4,
  "nbformat_minor": 0
}